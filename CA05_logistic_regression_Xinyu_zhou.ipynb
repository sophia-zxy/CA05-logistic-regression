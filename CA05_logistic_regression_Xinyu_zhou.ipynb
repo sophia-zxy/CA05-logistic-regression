{
  "nbformat": 4,
  "nbformat_minor": 0,
  "metadata": {
    "colab": {
      "name": "CA05_logistic_regression_Xinyu_zhou.ipynb",
      "provenance": [],
      "collapsed_sections": [],
      "machine_shape": "hm",
      "include_colab_link": true
    },
    "kernelspec": {
      "name": "python3",
      "display_name": "Python 3"
    }
  },
  "cells": [
    {
      "cell_type": "markdown",
      "metadata": {
        "id": "view-in-github",
        "colab_type": "text"
      },
      "source": [
        "<a href=\"https://colab.research.google.com/github/sophia-zxy/CA05-logistic-regression/blob/main/CA05_logistic_regression_Xinyu_zhou.ipynb\" target=\"_parent\"><img src=\"https://colab.research.google.com/assets/colab-badge.svg\" alt=\"Open In Colab\"/></a>"
      ]
    },
    {
      "cell_type": "markdown",
      "metadata": {
        "id": "JRMY-RiDKeJw"
      },
      "source": [
        "# **CA05 - Logistic Regression**\n",
        "Name: Xinyu Zhou\n",
        "\n",
        "Colab link: https://colab.research.google.com/drive/1P_CBwXiaXEFJBGrd4THtGNWEZ1Duivdc?usp=sharing"
      ]
    },
    {
      "cell_type": "markdown",
      "metadata": {
        "id": "0MRC0e0KhQ0S"
      },
      "source": [
        "# Part 1- Logistic regression model\n",
        "\n",
        "build a binary classifier model to predict the CVD Risk (Yes/No, or 1/0) using a Logistic Regression Model with the best performance possible"
      ]
    },
    {
      "cell_type": "code",
      "metadata": {
        "id": "YvGPUQaHhXfL"
      },
      "source": [
        "#Importing the libraries\n",
        "import numpy as np\n",
        "import matplotlib.pyplot as plt\n",
        "import pandas as pd\n",
        "from matplotlib import pyplot\n",
        "from sklearn.model_selection import RepeatedStratifiedKFold\n",
        "from sklearn.model_selection import GridSearchCV\n",
        "from sklearn.linear_model import LogisticRegression\n",
        "from sklearn.model_selection import train_test_split\n",
        "from sklearn.preprocessing import StandardScaler\n",
        "from sklearn.metrics import confusion_matrix, accuracy_score\n",
        "from sklearn.metrics import precision_recall_fscore_support as score\n",
        "from sklearn.metrics import roc_curve, roc_auc_score\n"
      ],
      "execution_count": null,
      "outputs": []
    },
    {
      "cell_type": "code",
      "metadata": {
        "id": "o-uJQ__S7-Rv"
      },
      "source": [
        "# Importing the dataset, slice independent and depedent variables\n",
        "dataset = pd.read_csv('https://github.com/ArinB/CA05-B-Logistic-Regression/raw/master/cvd_data.csv')\n",
        "X = dataset.iloc[:, 1:].values\n",
        "y = dataset.iloc[:, 0].values"
      ],
      "execution_count": null,
      "outputs": []
    },
    {
      "cell_type": "code",
      "metadata": {
        "id": "AVzJWAXIhxoC"
      },
      "source": [
        "# Splitting the dataset into the Training set and Test set\n",
        "X_train, X_test, y_train, y_test = train_test_split(X, y, test_size = 0.25, random_state = 101)\n",
        "# Feature Scaling\n",
        "sc = StandardScaler()\n",
        "X_train = sc.fit_transform(X_train)\n",
        "X_test = sc.transform(X_test)"
      ],
      "execution_count": null,
      "outputs": []
    },
    {
      "cell_type": "code",
      "metadata": {
        "colab": {
          "base_uri": "https://localhost:8080/"
        },
        "id": "dbJnX_ZKpkeK",
        "outputId": "117d0d0f-dc12-4bb1-ea4a-fed2e2cdb533"
      },
      "source": [
        "# Grid searching key hyperparametres\n",
        "# Define models and parameters\n",
        "model = LogisticRegression()\n",
        "solvers = ['newton-cg', 'lbfgs', 'liblinear']\n",
        "penalty = ['l2']\n",
        "c_values = [100, 10, 1.0, 0.1, 0.01]\n",
        "# Define grid search\n",
        "grid = dict(solver=solvers,penalty=penalty,C=c_values)\n",
        "cv = RepeatedStratifiedKFold(n_splits=10, n_repeats=3, random_state=101)\n",
        "grid_search = GridSearchCV(estimator=model, param_grid=grid, n_jobs=-1, cv=cv, scoring='accuracy',error_score=0)\n",
        "grid_result = grid_search.fit(X, y)\n",
        "# Summarize results\n",
        "print(\"Best: %f using %s\" % (grid_result.best_score_, grid_result.best_params_))\n",
        "means = grid_result.cv_results_['mean_test_score']\n",
        "stds = grid_result.cv_results_['std_test_score']\n",
        "params = grid_result.cv_results_['params']\n",
        "for mean, stdev, param in zip(means, stds, params):\n",
        "    print(\"%f (%f) with: %r\" % (mean, stdev, param))"
      ],
      "execution_count": null,
      "outputs": [
        {
          "output_type": "stream",
          "text": [
            "Best: 0.691764 using {'C': 100, 'penalty': 'l2', 'solver': 'newton-cg'}\n",
            "0.691764 (0.025255) with: {'C': 100, 'penalty': 'l2', 'solver': 'newton-cg'}\n",
            "0.681171 (0.026677) with: {'C': 100, 'penalty': 'l2', 'solver': 'lbfgs'}\n",
            "0.690942 (0.024495) with: {'C': 100, 'penalty': 'l2', 'solver': 'liblinear'}\n",
            "0.691764 (0.025255) with: {'C': 10, 'penalty': 'l2', 'solver': 'newton-cg'}\n",
            "0.680862 (0.025179) with: {'C': 10, 'penalty': 'l2', 'solver': 'lbfgs'}\n",
            "0.690943 (0.024963) with: {'C': 10, 'penalty': 'l2', 'solver': 'liblinear'}\n",
            "0.691764 (0.025070) with: {'C': 1.0, 'penalty': 'l2', 'solver': 'newton-cg'}\n",
            "0.679938 (0.027130) with: {'C': 1.0, 'penalty': 'l2', 'solver': 'lbfgs'}\n",
            "0.687446 (0.025991) with: {'C': 1.0, 'penalty': 'l2', 'solver': 'liblinear'}\n",
            "0.690839 (0.025125) with: {'C': 0.1, 'penalty': 'l2', 'solver': 'newton-cg'}\n",
            "0.681993 (0.026809) with: {'C': 0.1, 'penalty': 'l2', 'solver': 'lbfgs'}\n",
            "0.682608 (0.024753) with: {'C': 0.1, 'penalty': 'l2', 'solver': 'liblinear'}\n",
            "0.687544 (0.022415) with: {'C': 0.01, 'penalty': 'l2', 'solver': 'newton-cg'}\n",
            "0.680961 (0.025143) with: {'C': 0.01, 'penalty': 'l2', 'solver': 'lbfgs'}\n",
            "0.681475 (0.024869) with: {'C': 0.01, 'penalty': 'l2', 'solver': 'liblinear'}\n"
          ],
          "name": "stdout"
        }
      ]
    },
    {
      "cell_type": "code",
      "metadata": {
        "id": "e0pFVAmciHQs",
        "colab": {
          "base_uri": "https://localhost:8080/"
        },
        "outputId": "24812fad-594c-41d7-e433-eb7c54e6c436"
      },
      "source": [
        "# Training the Logistic Regression model with best performance\n",
        "classifier = LogisticRegression(random_state = 101,C =100,penalty='l2',solver='newton-cg')\n",
        "classifier.fit(X_train, y_train)"
      ],
      "execution_count": null,
      "outputs": [
        {
          "output_type": "execute_result",
          "data": {
            "text/plain": [
              "LogisticRegression(C=100, class_weight=None, dual=False, fit_intercept=True,\n",
              "                   intercept_scaling=1, l1_ratio=None, max_iter=100,\n",
              "                   multi_class='auto', n_jobs=None, penalty='l2',\n",
              "                   random_state=101, solver='newton-cg', tol=0.0001, verbose=0,\n",
              "                   warm_start=False)"
            ]
          },
          "metadata": {
            "tags": []
          },
          "execution_count": 9
        }
      ]
    },
    {
      "cell_type": "markdown",
      "metadata": {
        "id": "sxBFMrB39tyx"
      },
      "source": [
        "# Part 2 - Display the feature importance\n",
        "\n",
        "Display the Feature Importance of all the features sorted in the order of decreasing influence on the CVD Risk "
      ]
    },
    {
      "cell_type": "code",
      "metadata": {
        "colab": {
          "base_uri": "https://localhost:8080/",
          "height": 521
        },
        "id": "8aBSHP9fAP2T",
        "outputId": "e752d37c-1712-4d78-dba9-b153621f58d5"
      },
      "source": [
        "# Sorted in the order of decreasing influence on the CVD Risk\n",
        "results = []\n",
        "# get importance\n",
        "importance = classifier.coef_[0]\n",
        "# summarize feature importance\n",
        "for i,v in enumerate(importance):\n",
        "        results.append([v])\n",
        "importance_df = pd.DataFrame(results, columns=[\"Score\"])\n",
        "importance_df.sort_values(by=\"Score\",ascending=False)\n",
        "\t#print('Feature: %0d, Score: %.5f' % (i,v))"
      ],
      "execution_count": null,
      "outputs": [
        {
          "output_type": "execute_result",
          "data": {
            "text/html": [
              "<div>\n",
              "<style scoped>\n",
              "    .dataframe tbody tr th:only-of-type {\n",
              "        vertical-align: middle;\n",
              "    }\n",
              "\n",
              "    .dataframe tbody tr th {\n",
              "        vertical-align: top;\n",
              "    }\n",
              "\n",
              "    .dataframe thead th {\n",
              "        text-align: right;\n",
              "    }\n",
              "</style>\n",
              "<table border=\"1\" class=\"dataframe\">\n",
              "  <thead>\n",
              "    <tr style=\"text-align: right;\">\n",
              "      <th></th>\n",
              "      <th>Score</th>\n",
              "    </tr>\n",
              "  </thead>\n",
              "  <tbody>\n",
              "    <tr>\n",
              "      <th>6</th>\n",
              "      <td>1.129536</td>\n",
              "    </tr>\n",
              "    <tr>\n",
              "      <th>2</th>\n",
              "      <td>0.199734</td>\n",
              "    </tr>\n",
              "    <tr>\n",
              "      <th>11</th>\n",
              "      <td>0.135913</td>\n",
              "    </tr>\n",
              "    <tr>\n",
              "      <th>14</th>\n",
              "      <td>0.115781</td>\n",
              "    </tr>\n",
              "    <tr>\n",
              "      <th>10</th>\n",
              "      <td>0.065354</td>\n",
              "    </tr>\n",
              "    <tr>\n",
              "      <th>12</th>\n",
              "      <td>0.052602</td>\n",
              "    </tr>\n",
              "    <tr>\n",
              "      <th>8</th>\n",
              "      <td>0.007421</td>\n",
              "    </tr>\n",
              "    <tr>\n",
              "      <th>0</th>\n",
              "      <td>-0.005970</td>\n",
              "    </tr>\n",
              "    <tr>\n",
              "      <th>9</th>\n",
              "      <td>-0.042787</td>\n",
              "    </tr>\n",
              "    <tr>\n",
              "      <th>13</th>\n",
              "      <td>-0.091538</td>\n",
              "    </tr>\n",
              "    <tr>\n",
              "      <th>3</th>\n",
              "      <td>-0.126089</td>\n",
              "    </tr>\n",
              "    <tr>\n",
              "      <th>5</th>\n",
              "      <td>-0.199982</td>\n",
              "    </tr>\n",
              "    <tr>\n",
              "      <th>7</th>\n",
              "      <td>-0.204974</td>\n",
              "    </tr>\n",
              "    <tr>\n",
              "      <th>1</th>\n",
              "      <td>-0.305473</td>\n",
              "    </tr>\n",
              "    <tr>\n",
              "      <th>15</th>\n",
              "      <td>-0.405964</td>\n",
              "    </tr>\n",
              "    <tr>\n",
              "      <th>4</th>\n",
              "      <td>-0.612354</td>\n",
              "    </tr>\n",
              "  </tbody>\n",
              "</table>\n",
              "</div>"
            ],
            "text/plain": [
              "       Score\n",
              "6   1.129536\n",
              "2   0.199734\n",
              "11  0.135913\n",
              "14  0.115781\n",
              "10  0.065354\n",
              "12  0.052602\n",
              "8   0.007421\n",
              "0  -0.005970\n",
              "9  -0.042787\n",
              "13 -0.091538\n",
              "3  -0.126089\n",
              "5  -0.199982\n",
              "7  -0.204974\n",
              "1  -0.305473\n",
              "15 -0.405964\n",
              "4  -0.612354"
            ]
          },
          "metadata": {
            "tags": []
          },
          "execution_count": 10
        }
      ]
    },
    {
      "cell_type": "code",
      "metadata": {
        "id": "1Cw3AeQrrsN2",
        "colab": {
          "base_uri": "https://localhost:8080/",
          "height": 521
        },
        "outputId": "59326cba-edd4-45c2-bd60-ebd184cc62e5"
      },
      "source": [
        "# feature importance in an original order\n",
        "importance_df"
      ],
      "execution_count": null,
      "outputs": [
        {
          "output_type": "execute_result",
          "data": {
            "text/html": [
              "<div>\n",
              "<style scoped>\n",
              "    .dataframe tbody tr th:only-of-type {\n",
              "        vertical-align: middle;\n",
              "    }\n",
              "\n",
              "    .dataframe tbody tr th {\n",
              "        vertical-align: top;\n",
              "    }\n",
              "\n",
              "    .dataframe thead th {\n",
              "        text-align: right;\n",
              "    }\n",
              "</style>\n",
              "<table border=\"1\" class=\"dataframe\">\n",
              "  <thead>\n",
              "    <tr style=\"text-align: right;\">\n",
              "      <th></th>\n",
              "      <th>Score</th>\n",
              "    </tr>\n",
              "  </thead>\n",
              "  <tbody>\n",
              "    <tr>\n",
              "      <th>0</th>\n",
              "      <td>-0.005970</td>\n",
              "    </tr>\n",
              "    <tr>\n",
              "      <th>1</th>\n",
              "      <td>-0.305473</td>\n",
              "    </tr>\n",
              "    <tr>\n",
              "      <th>2</th>\n",
              "      <td>0.199734</td>\n",
              "    </tr>\n",
              "    <tr>\n",
              "      <th>3</th>\n",
              "      <td>-0.126089</td>\n",
              "    </tr>\n",
              "    <tr>\n",
              "      <th>4</th>\n",
              "      <td>-0.612354</td>\n",
              "    </tr>\n",
              "    <tr>\n",
              "      <th>5</th>\n",
              "      <td>-0.199982</td>\n",
              "    </tr>\n",
              "    <tr>\n",
              "      <th>6</th>\n",
              "      <td>1.129536</td>\n",
              "    </tr>\n",
              "    <tr>\n",
              "      <th>7</th>\n",
              "      <td>-0.204974</td>\n",
              "    </tr>\n",
              "    <tr>\n",
              "      <th>8</th>\n",
              "      <td>0.007421</td>\n",
              "    </tr>\n",
              "    <tr>\n",
              "      <th>9</th>\n",
              "      <td>-0.042787</td>\n",
              "    </tr>\n",
              "    <tr>\n",
              "      <th>10</th>\n",
              "      <td>0.065354</td>\n",
              "    </tr>\n",
              "    <tr>\n",
              "      <th>11</th>\n",
              "      <td>0.135913</td>\n",
              "    </tr>\n",
              "    <tr>\n",
              "      <th>12</th>\n",
              "      <td>0.052602</td>\n",
              "    </tr>\n",
              "    <tr>\n",
              "      <th>13</th>\n",
              "      <td>-0.091538</td>\n",
              "    </tr>\n",
              "    <tr>\n",
              "      <th>14</th>\n",
              "      <td>0.115781</td>\n",
              "    </tr>\n",
              "    <tr>\n",
              "      <th>15</th>\n",
              "      <td>-0.405964</td>\n",
              "    </tr>\n",
              "  </tbody>\n",
              "</table>\n",
              "</div>"
            ],
            "text/plain": [
              "       Score\n",
              "0  -0.005970\n",
              "1  -0.305473\n",
              "2   0.199734\n",
              "3  -0.126089\n",
              "4  -0.612354\n",
              "5  -0.199982\n",
              "6   1.129536\n",
              "7  -0.204974\n",
              "8   0.007421\n",
              "9  -0.042787\n",
              "10  0.065354\n",
              "11  0.135913\n",
              "12  0.052602\n",
              "13 -0.091538\n",
              "14  0.115781\n",
              "15 -0.405964"
            ]
          },
          "metadata": {
            "tags": []
          },
          "execution_count": 11
        }
      ]
    },
    {
      "cell_type": "code",
      "metadata": {
        "colab": {
          "base_uri": "https://localhost:8080/",
          "height": 265
        },
        "id": "9mzUJfpZCDHE",
        "outputId": "991c7a4a-7b02-4e40-b1d0-47595841f3c0"
      },
      "source": [
        "# plot feature importance in an original order\n",
        "pyplot.bar([x for x in range(len(importance))], importance)\n",
        "pyplot.show()"
      ],
      "execution_count": null,
      "outputs": [
        {
          "output_type": "display_data",
          "data": {
            "image/png": "[encoded data removed]",
            "text/plain": [
              "<Figure size 432x288 with 1 Axes>"
            ]
          },
          "metadata": {
            "tags": [],
            "needs_background": "light"
          }
        }
      ]
    },
    {
      "cell_type": "markdown",
      "metadata": {
        "id": "TOycDm_o91aC"
      },
      "source": [
        "# Part 3 - Evaluate the performance \n",
        "\n",
        "Evaluate the performance of your model (including ROC Curve), explain the performance anddraw a meaningful conclusion. \n",
        "\n",
        "(deliverable: Performance outputs in Notebook, explanation and conclusion in Word/PDF document)"
      ]
    },
    {
      "cell_type": "markdown",
      "metadata": {
        "id": "zAVDXA6DIu1k"
      },
      "source": [
        "From the confusion matrix, we know that \n",
        "\n",
        "true positives (TP):  we correctly predicted CVD Risk YES 393 times\n",
        "\n",
        "true negatives (TN):  we correctly predicted CVD Risk NO 174 times\n",
        "\n",
        "false positives (FP): we incorrectly predicted CVD Risk YES 177 times (a \"Type I error\")\n",
        "\n",
        "false negatives (FN): we incorrectly predicted CVD Risk NO 67 times  (a \"Type II error\")\n",
        "\n",
        "Our dataset is balanced from the f1 score(0.763). Our accuracy score is 0.699 Which is ok not every good. .AUC score is 0.675 which is acceptable. Our recall is 0.854 which is good number and it means we can 85.4% got correct positive predictions.Recall plus AUC will be a good option for evaluating model for detecting disease because it will ensure that true positive rate will be consistent across all threshold values and we can see how Recall will behave with respect to the desired threshold value. There is some improvement we can make, but that the best model we can get so far."
      ]
    },
    {
      "cell_type": "code",
      "metadata": {
        "colab": {
          "base_uri": "https://localhost:8080/"
        },
        "id": "pagQSqpO97xA",
        "outputId": "2bab406c-e86e-4a23-d68d-d5d9a29e88a1"
      },
      "source": [
        "# Making the Confusion Matrix\n",
        "y_pred=classifier.predict(X_test)\n",
        "cm = confusion_matrix(y_test, y_pred)\n",
        "print(cm)\n",
        "\n",
        "#TN FP\n",
        "#FN TP"
      ],
      "execution_count": null,
      "outputs": [
        {
          "output_type": "stream",
          "text": [
            "[[174 177]\n",
            " [ 67 393]]\n"
          ],
          "name": "stdout"
        }
      ]
    },
    {
      "cell_type": "code",
      "metadata": {
        "colab": {
          "base_uri": "https://localhost:8080/"
        },
        "id": "L43Uexrpv8OD",
        "outputId": "64682454-f7d8-4e51-ad78-0a833c7a4bae"
      },
      "source": [
        "#Accuracy, precision,recal, f-1 score\n",
        "print('accuracy: {}'.format(accuracy_score(y_test, y_pred)))\n",
        "precision, recall, fscore, support = score(y_test, y_pred,average='binary')\n",
        "print('precision: {}'.format(precision))\n",
        "print('recall: {}'.format(recall))\n",
        "print('fscore: {}'.format(fscore))"
      ],
      "execution_count": null,
      "outputs": [
        {
          "output_type": "stream",
          "text": [
            "accuracy: 0.6991368680641183\n",
            "precision: 0.6894736842105263\n",
            "recall: 0.8543478260869565\n",
            "fscore: 0.7631067961165049\n"
          ],
          "name": "stdout"
        }
      ]
    },
    {
      "cell_type": "code",
      "metadata": {
        "colab": {
          "base_uri": "https://localhost:8080/",
          "height": 313
        },
        "id": "jIVq-jIeLBd1",
        "outputId": "1e62f9e9-7b05-4acb-b423-dd629487affd"
      },
      "source": [
        "# ROC Curve\n",
        "from sklearn import metrics\n",
        "print(metrics.roc_auc_score(y_test, y_pred))\n",
        "#Receiver Operating Characteristic (ROC) Curves\n",
        "fpr, tpr, thresholds = metrics.roc_curve(y_test, y_pred)\n",
        "probas_pred = classifier.predict_proba(X_test)\n",
        "probas_pred = probas_pred[:, 1]\n",
        "lr_fpr, lr_tpr, _ = roc_curve(y_test, probas_pred)\n",
        "plt.plot(lr_fpr, lr_tpr)\n",
        "plt.xlim([0.0, 1.0])\n",
        "plt.ylim([0.0, 1.0])\n",
        "plt.rcParams['font.size'] = 12\n",
        "plt.title('ROC curve for CVD Risk(Yes)')\n",
        "plt.xlabel('False Positive Rate (1 - Specificity)')\n",
        "plt.ylabel('True Positive Rate (Sensitivity)')\n",
        "plt.grid(True)"
      ],
      "execution_count": null,
      "outputs": [
        {
          "output_type": "stream",
          "text": [
            "0.675037160906726\n"
          ],
          "name": "stdout"
        },
        {
          "output_type": "display_data",
          "data": {
            "image/png": "[encoded data removed]",
            "text/plain": [
              "<Figure size 432x288 with 1 Axes>"
            ]
          },
          "metadata": {
            "tags": [],
            "needs_background": "light"
          }
        }
      ]
    },
    {
      "cell_type": "markdown",
      "metadata": {
        "id": "vLBOD7D6O_83"
      },
      "source": [
        ""
      ]
    }
  ]
}